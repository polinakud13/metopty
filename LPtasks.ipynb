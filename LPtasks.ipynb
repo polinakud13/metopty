{
 "cells": [
  {
   "cell_type": "code",
   "execution_count": 19,
   "metadata": {},
   "outputs": [],
   "source": [
    "import cvxpy\n",
    "import cvxopt as cvx\n",
    "from cvxopt import matrix, solvers\n",
    "import numpy as np"
   ]
  },
  {
   "cell_type": "markdown",
   "metadata": {},
   "source": [
    "Task 1. Cucumbers and onions."
   ]
  },
  {
   "cell_type": "code",
   "execution_count": 17,
   "metadata": {},
   "outputs": [
    {
     "name": "stdout",
     "output_type": "stream",
     "text": [
      "     pcost       dcost       gap    pres   dres   k/t\n",
      " 0: -2.0538e+01 -4.8231e+01  1e+01  0e+00  9e-01  1e+00\n",
      " 1: -2.1458e+01 -2.4049e+01  9e-01  2e-16  8e-02  8e-02\n",
      " 2: -2.1993e+01 -2.2046e+01  2e-02  4e-16  2e-03  2e-03\n",
      " 3: -2.2000e+01 -2.2000e+01  2e-04  1e-16  2e-05  2e-05\n",
      " 4: -2.2000e+01 -2.2000e+01  2e-06  1e-16  2e-07  2e-07\n",
      " 5: -2.2000e+01 -2.2000e+01  2e-08  9e-17  2e-09  2e-09\n",
      "Optimal solution found.\n",
      "[ 3.00e+00]\n",
      "[ 2.00e+00]\n",
      "\n"
     ]
    }
   ],
   "source": [
    "A1 = matrix([ [2, 1, 0.0, -1, 0], [1, 2, 1, 0, -1] ])\n",
    "b1 = matrix([ 8, 7, 3.0, 0, 0])\n",
    "c1 = matrix([ -4.0, -5 ])\n",
    "sol=solvers.lp(c1,A1,b1)\n",
    "print(sol['x'])"
   ]
  },
  {
   "cell_type": "markdown",
   "metadata": {},
   "source": [
    "Farmer should have $3 m^2$ for cucumbers, $2m^2$ for onions\n",
    "\n",
    "\n",
    "Task 2. Perfumes"
   ]
  },
  {
   "cell_type": "code",
   "execution_count": 11,
   "metadata": {},
   "outputs": [
    {
     "name": "stdout",
     "output_type": "stream",
     "text": [
      "     pcost       dcost       gap    pres   dres   k/t\n",
      " 0: -3.2476e+03 -5.2784e+03  7e+02  0e+00  4e-01  1e+00\n",
      " 1: -3.5884e+03 -3.8092e+03  6e+01  2e-16  5e-02  4e+00\n",
      " 2: -3.5999e+03 -3.6022e+03  6e-01  3e-16  5e-04  4e-02\n",
      " 3: -3.6000e+03 -3.6000e+03  6e-03  2e-16  5e-06  4e-04\n",
      " 4: -3.6000e+03 -3.6000e+03  6e-05  2e-16  5e-08  4e-06\n",
      "Optimal solution found.\n",
      "[ 2.00e+00]\n",
      "[ 6.00e+00]\n",
      "\n"
     ]
    }
   ],
   "source": [
    "A2 = matrix([ [1, 0.0, 3, -1, 0], [0, 2, 2, 0, -1] ])\n",
    "b2 = matrix([ 4, 12, 18.0, 0, 0])\n",
    "c2 = matrix([ -300.0, -500 ])\n",
    "sol=solvers.lp(c2,A2,b2)\n",
    "print(sol['x'])"
   ]
  },
  {
   "cell_type": "markdown",
   "metadata": {},
   "source": [
    "We should make 2 liters of Perfume 1 and 6 liters of Perfume 2.\n",
    "\n",
    "Task 3. German wines"
   ]
  },
  {
   "cell_type": "code",
   "execution_count": 12,
   "metadata": {},
   "outputs": [
    {
     "name": "stdout",
     "output_type": "stream",
     "text": [
      "     pcost       dcost       gap    pres   dres   k/t\n",
      " 0: -1.7537e+03 -4.6124e+03  1e+03  1e-01  1e+00  1e+00\n",
      " 1: -1.9002e+03 -3.3677e+03  6e+02  6e-02  7e-01  1e+01\n",
      " 2: -2.0503e+03 -3.6352e+03  9e+02  7e-02  8e-01  4e+01\n",
      " 3: -2.1014e+03 -2.1512e+03  2e+01  2e-03  3e-02  3e+00\n",
      " 4: -2.1000e+03 -2.1005e+03  2e-01  2e-05  3e-04  3e-02\n",
      " 5: -2.1000e+03 -2.1000e+03  2e-03  2e-07  3e-06  3e-04\n",
      " 6: -2.1000e+03 -2.1000e+03  2e-05  2e-09  3e-08  3e-06\n",
      "Optimal solution found.\n",
      "[-1.46e-07]\n",
      "[ 5.00e+01]\n",
      "[ 7.50e+01]\n",
      "\n"
     ]
    }
   ],
   "source": [
    "A3 = matrix([ [1, 1.0, 2, 2, -1, 0, 0], \n",
    "              [2, 0, 1, 3, 0, -1, 0],\n",
    "              [0, 2, 0, 1, 0, 0, -1] ])\n",
    "b3 = matrix([ 150, 150, 80.0, 225, 0,0,0])\n",
    "c3 = matrix([ -10.0, -12, -20 ])\n",
    "sol=solvers.lp(c3,A3,b3)\n",
    "print(sol['x'])"
   ]
  },
  {
   "cell_type": "markdown",
   "metadata": {},
   "source": [
    "We should make 0 of wine 1, 50 of wine 2 and 75 of wine 3.\n",
    "\n",
    "\n",
    "Task 4. Dairy products"
   ]
  },
  {
   "cell_type": "code",
   "execution_count": 6,
   "metadata": {},
   "outputs": [
    {
     "name": "stdout",
     "output_type": "stream",
     "text": [
      "     pcost       dcost       gap    pres   dres   k/t\n",
      " 0: -1.2779e+04 -2.8409e+04  2e+04  4e-01  3e+00  1e+00\n",
      " 1:  7.9131e+03 -2.6192e+04  2e+05  1e+00  7e+00  5e+03\n",
      " 2: -1.4594e+03 -2.0852e+03  4e+03  6e-02  4e-01  2e+03\n",
      " 3: -3.6927e+02 -4.2741e+02  2e+02  3e-03  2e-02  5e+01\n",
      " 4: -3.3558e+02 -3.3913e+02  8e+00  1e-04  8e-04  1e+00\n",
      " 5: -3.3748e+02 -3.3752e+02  9e-02  1e-06  9e-06  1e-02\n",
      " 6: -3.3750e+02 -3.3750e+02  9e-04  1e-08  9e-08  1e-04\n",
      " 7: -3.3750e+02 -3.3750e+02  9e-06  1e-10  9e-10  1e-06\n",
      "Optimal solution found.\n",
      "[ 1.60e-06]\n",
      "[-1.96e-07]\n",
      "[ 2.50e+01]\n",
      "\n",
      "Profit:  337.4999982353445\n"
     ]
    }
   ],
   "source": [
    "A4 = matrix([ [5, 3.0, 2, 15, -1, 0, 0], \n",
    "              [5, 0, 5.0, 30, 0, -1, 0],\n",
    "              [2, 0, 4.0, 10, 0, 0, -1] ])\n",
    "b4 = matrix([ 3000, 1000, 4000.0, 250, 0,0,0])\n",
    "c4 = matrix([ -(20-10/4), -(25-10/4), -(15-3/2) ])\n",
    "sol=solvers.lp(c4,A4,b4)\n",
    "print(sol['x'])\n",
    "print(\"Profit: \", -sol['primal objective'])"
   ]
  },
  {
   "cell_type": "markdown",
   "metadata": {},
   "source": [
    "We should only make 25 kg of third cheese. These leaves us with 2337.5 euros.\n",
    "\n",
    "Task 5. Apples"
   ]
  },
  {
   "cell_type": "code",
   "execution_count": 15,
   "metadata": {},
   "outputs": [
    {
     "name": "stdout",
     "output_type": "stream",
     "text": [
      "     pcost       dcost       gap    pres   dres   k/t\n",
      " 0: -4.8751e+03 -2.3625e+04  2e+04  5e-04  8e-01  1e+00\n",
      " 1: -8.7628e+03 -1.1846e+04  3e+03  9e-05  1e-01  1e+02\n",
      " 2: -1.0941e+04 -1.1098e+04  2e+02  5e-06  8e-03  1e+01\n",
      " 3: -1.0999e+04 -1.1001e+04  2e+00  5e-08  8e-05  1e-01\n",
      " 4: -1.1000e+04 -1.1000e+04  2e-02  5e-10  8e-07  1e-03\n",
      " 5: -1.1000e+04 -1.1000e+04  2e-04  5e-12  8e-09  1e-05\n",
      "Optimal solution found.\n",
      "[ 5.00e+03]\n",
      "[ 2.00e+03]\n",
      "[ 5.20e-06]\n",
      "[ 1.67e+01]\n",
      "\n",
      "Profit:  11000\n"
     ]
    }
   ],
   "source": [
    "A5 = matrix([ [1.0,    1, 0, 0,-1, 0, 0,0], \n",
    "              [10/6,   0, 1, 0, 0,-1, 0,0],\n",
    "              [100/24, 0, 0, 1, 0, 0,-1,0],\n",
    "              [-500,   0, 0, 0, 0, 0, 0,-1]])\n",
    "b5 = matrix([ 0, 5000, 2000, 500.0, 0,0,0,0])\n",
    "c5 = matrix([ -4.0, -8, -10, 1500 ])\n",
    "sol=solvers.lp(c5,A5,b5)\n",
    "print(sol['x'])\n",
    "print(\"Profit: \", round(-sol['primal objective']))"
   ]
  },
  {
   "cell_type": "markdown",
   "metadata": {},
   "source": [
    "Maximum profit is 11000 euros.\n",
    "\n",
    "Task 6. Wines with stuff"
   ]
  },
  {
   "cell_type": "code",
   "execution_count": 67,
   "metadata": {},
   "outputs": [
    {
     "name": "stdout",
     "output_type": "stream",
     "text": [
      "2\n",
      "     pcost       dcost       gap    pres   dres   k/t\n",
      " 0: -2.7568e+04 -6.6467e+04  4e+04  0e+00  0e+00  1e+00\n",
      " 1: -3.3002e+04 -5.5453e+04  2e+04  3e-16  2e-16  4e+02\n",
      " 2: -3.3865e+04 -3.9571e+04  6e+03  3e-16  4e-15  3e+02\n",
      " 3: -3.7620e+04 -3.9688e+04  2e+03  5e-16  6e-15  2e+02\n",
      " 4: -3.7825e+04 -3.8093e+04  3e+02  2e-17  6e-16  5e+01\n",
      " 5: -3.7998e+04 -3.8001e+04  3e+00  2e-16  2e-15  5e-01\n",
      " 6: -3.8000e+04 -3.8000e+04  3e-02  1e-16  3e-16  5e-03\n",
      "Optimal solution found.\n",
      "[ 1.00e+03]\n",
      "[ 8.00e+03]\n",
      "\n",
      "Profit:  38000\n"
     ]
    }
   ],
   "source": [
    "n = 2\n",
    "m = 3\n",
    "c = np.array([7.0, 5.0])\n",
    "s = [5000.0, 1000.0, 4000.0]\n",
    "p = np.array([[30,50.0],\n",
    "     [20,10],\n",
    "     [50,40]])\n",
    "d = [1000.0, 1000.0]\n",
    "d = [-i for i in d]\n",
    "v = 1.0\n",
    "\n",
    "identity = np.identity(n)*(-1)\n",
    "\n",
    "A6 = matrix(np.concatenate((p.T/100, identity), axis=1).T)\n",
    "b6 = matrix(np.array(s+d).reshape((5,1)))\n",
    "c6 = matrix(-c + np.ones(n) )\n",
    "print(A6.size[1])\n",
    "sol=solvers.lp(c6,A6,b6)\n",
    "\n",
    "print(sol['x'])\n",
    "print(\"Profit: \", round(-sol['primal objective']))"
   ]
  },
  {
   "cell_type": "markdown",
   "metadata": {},
   "source": [
    "\n",
    "\n",
    "Task 7. Bills"
   ]
  },
  {
   "cell_type": "code",
   "execution_count": 59,
   "metadata": {},
   "outputs": [
    {
     "name": "stdout",
     "output_type": "stream",
     "text": [
      "     pcost       dcost       gap    pres   dres   k/t\n",
      " 0: -1.3376e+04 -8.1665e+04  3e+04  1e-01  3e+00  1e+00\n",
      " 1: -6.6335e+03 -1.0136e+05  1e+05  2e-01  5e+00  3e+03\n",
      " 2: -7.1001e+03 -2.3948e+04  1e+04  4e-02  9e-01  2e+03\n",
      " 3: -6.4973e+03 -8.5313e+03  1e+03  5e-03  1e-01  3e+02\n",
      " 4: -6.3551e+03 -6.7416e+03  2e+02  9e-04  2e-02  3e+01\n",
      " 5: -6.3007e+03 -6.3076e+03  3e+00  2e-05  3e-04  5e-01\n",
      " 6: -6.3000e+03 -6.3001e+03  3e-02  2e-07  3e-06  5e-03\n",
      " 7: -6.3000e+03 -6.3000e+03  3e-04  2e-09  3e-08  5e-05\n",
      "Optimal solution found.\n",
      "[ 1.00e+02]\n",
      "[ 3.00e+01]\n",
      "[ 1.00e+02]\n",
      "[ 1.30e+02]\n",
      "[ 1.30e+02]\n",
      "\n",
      "Profit:  6300.000066380376\n"
     ]
    }
   ],
   "source": [
    "A7 = matrix([ [1,0,1.0, 1, 1, 0, 0,15,15, -1,0,0,0,0], \n",
    "              [0,1,0, 1, 1, 0, 1, 0, 5, 0,-1,0,0,0],\n",
    "              [0,0,-1,0, 0, 1, 0, 0, 0, 0,0,-1,0,0],\n",
    "              [0,0,0,-1, 0, 0, 1, 0, 0, 0,0,0,-1,0],\n",
    "              [0,0,0, 0,-1, 0, 0, 5, 0, 0,0,0,0,-1]])\n",
    "b7 = matrix([ 100,50, 0,0,0, 160,160,2400,2400,0,0,0,0,0.0])\n",
    "c7 = matrix([-90, -100, 5.0, 20, 20])\n",
    "sol=solvers.lp(c7,A7,b7)\n",
    "print(sol['x'])\n",
    "print(\"Profit: \", -sol['primal objective'])"
   ]
  },
  {
   "cell_type": "markdown",
   "metadata": {},
   "source": [
    "We should make 100 of P and 30 of Q."
   ]
  }
 ],
 "metadata": {
  "kernelspec": {
   "display_name": "Python 3",
   "language": "python",
   "name": "python3"
  },
  "language_info": {
   "codemirror_mode": {
    "name": "ipython",
    "version": 3
   },
   "file_extension": ".py",
   "mimetype": "text/x-python",
   "name": "python",
   "nbconvert_exporter": "python",
   "pygments_lexer": "ipython3",
   "version": "3.5.2"
  }
 },
 "nbformat": 4,
 "nbformat_minor": 2
}
