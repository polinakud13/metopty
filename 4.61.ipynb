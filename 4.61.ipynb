{
 "cells": [
  {
   "cell_type": "markdown",
   "metadata": {},
   "source": [
    "# Problem statement\n",
    "\n",
    "Let $X \\in \\{0,1\\}$ be a random variable, that satisfies $$prob(X=1) = p = \\frac {exp(a^{T}x+b)}{1+exp(a^{T}x+b)} $$  where $x \\in \\mathbb{R}^n$ is a vector of variables that affect the probability, and $a$ and $b$ are known parameters. We can think of $X = 1$ as the event that a consumer buys a product, and $x$ as a vector of variables that affect the probability, e.g., advertising effort, retail price, discounted price, packaging expense, and other factors. \n",
    "The variable $x$, which we are to optimize over, is subject to a set of linear constraints, $Fx \\preceq g$.\n",
    "\n",
    "Formulate the following problems as convex optimization problems.\n",
    "\n",
    "\n",
    "1)  _Maximizing buying probability_ The goal is to choose $x$ to maximize $p$.\n",
    "\n",
    "2)  _Maximizing expected profit._ Let $c^T x+d$ be the profit derived from selling the product, which we assume is positive for all feasible x. The goal is to maximize the expected profit, which is $p\\cdot(c^T x + d)$.  \n"
   ]
  },
  {
   "cell_type": "code",
   "execution_count": 240,
   "metadata": {},
   "outputs": [],
   "source": [
    "import numpy as np\n",
    "import matplotlib.pyplot as plt\n",
    "import scipy.stats as sps\n",
    "%matplotlib inline"
   ]
  },
  {
   "cell_type": "code",
   "execution_count": 275,
   "metadata": {},
   "outputs": [],
   "source": [
    "a = np.matrix([1,2]).T\n",
    "a\n",
    "b = 1\n",
    "c = np.matrix([2,1]).T\n",
    "d = 2\n",
    "start_a = np.matrix([5, 3]).T\n",
    "start_b = np.matrix([4, 3]).T\n",
    "stop_precision = 0.001\n",
    "epsilon = 0.01"
   ]
  },
  {
   "cell_type": "code",
   "execution_count": 276,
   "metadata": {},
   "outputs": [],
   "source": [
    "def grad_descent(grad, start_x, stop_precision=0.0001, epsilon=0.01):\n",
    "    work_x = start_x\n",
    "    prev_x = 0\n",
    "    prev_precision = 1\n",
    "    for i in range(1000):\n",
    "        prev_x = work_x\n",
    "        work_x = work_x - epsilon*grad(work_x)\n",
    "        prev_precision = np.max(np.absolute(prev_x - work_x))\n",
    "        if prev_precision < stop_precision:\n",
    "            break\n",
    "    return work_x"
   ]
  },
  {
   "cell_type": "code",
   "execution_count": 277,
   "metadata": {},
   "outputs": [
    {
     "data": {
      "text/plain": [
       "matrix([[39.13676488],\n",
       "        [20.56847179]])"
      ]
     },
     "execution_count": 277,
     "metadata": {},
     "output_type": "execute_result"
    }
   ],
   "source": [
    "grad_descent(grad_b, start_b)"
   ]
  },
  {
   "cell_type": "code",
   "execution_count": 278,
   "metadata": {},
   "outputs": [],
   "source": [
    "def grad_a(x):\n",
    "    return -a\n",
    "\n",
    "def grad_b(x):\n",
    "    nom = np.exp(a.T*x + b)[0, 0]\n",
    "    denom = 1 + nom\n",
    "    if c.T*x + d <= 0:\n",
    "        raise Exception('grad_b error: Divided by zero')\n",
    "    return -a + nom*a/denom - c/(c.T*x + d)"
   ]
  },
  {
   "cell_type": "code",
   "execution_count": 285,
   "metadata": {},
   "outputs": [],
   "source": [
    "# Hesse matrix\n",
    "def hesse_a(x):\n",
    "    return 0\n",
    "def hesse_b(x):\n",
    "    nom = np.exp(a.T*x + b)[0,0]\n",
    "    if c.T*x + d <= 0:\n",
    "        raise Exception('grad_b error: Divided by zero')\n",
    "    return c*c.T/(c.T*x+d)**2 + nom/(nom+1)**2*a*a.T"
   ]
  },
  {
   "cell_type": "code",
   "execution_count": 309,
   "metadata": {},
   "outputs": [],
   "source": [
    "def newton_method(grad, hesse, start_x, stop_precision=0.0001, step_size=1, iterations=1000):\n",
    "    \"\"\"\n",
    "    Minimizes function using Newton method\n",
    "    grad - gradient of a function to minimize\n",
    "    start_x - starting point\n",
    "    \"\"\"\n",
    "    curr_x = start_x\n",
    "    for i in range(iterations):\n",
    "        inverse_hesse = hesse(curr_x).I\n",
    "        gradient = grad(curr_x)\n",
    "        \n",
    "        delta_x = - inverse_hesse * gradient\n",
    "        lambda_square = gradient.T * inverse_hesse * gradient\n",
    "        if lambda_square/2 < stop_precision:\n",
    "            return curr_x + delta_x\n",
    "        curr_x = curr_x + delta_x\n",
    "    return curr_x"
   ]
  },
  {
   "cell_type": "code",
   "execution_count": 299,
   "metadata": {},
   "outputs": [],
   "source": [
    "def quasi_newton_method(grad, start_x, stop_precision=0.0001, step_size=1, iterations=10000):\n",
    "    \"\"\"\n",
    "    Minimizes function using quasi Newton method\n",
    "    grad - gradient of a function to minimize\n",
    "    start_x - starting point\n",
    "    \"\"\"\n",
    "    def update_inverse_hesse(prev, s, y):\n",
    "        v = s - prev*y\n",
    "        if v.T*y == 0 or v.T*y != v.T*y:\n",
    "             raise Exception('hesse error: Divided by zero %f' % v.T*y)\n",
    "        return prev + v*v.T/(v.T*y)\n",
    "    \n",
    "    curr_x = start_x\n",
    "\n",
    "    inverse_hesse = np.identity(start_x.size) #hesse aproximation\n",
    "    for i in range(iterations):        \n",
    "        delta_x = -inverse_hesse * grad(curr_x)\n",
    "        \n",
    "        s = step_size * delta_x\n",
    "        y = grad(curr_x+s) - grad(curr_x)\n",
    "        \n",
    "        inverse_hesse = update_inverse_hesse(inverse_hesse, s, y)\n",
    "        curr_x = curr_x + s\n",
    "        \n",
    "        precision = np.max(np.absolute(s))\n",
    "        if precision < stop_precision:\n",
    "            break\n",
    "\n",
    "    return curr_x"
   ]
  },
  {
   "cell_type": "code",
   "execution_count": 291,
   "metadata": {},
   "outputs": [
    {
     "name": "stderr",
     "output_type": "stream",
     "text": [
      "C:\\Users\\1\\Anaconda3\\lib\\site-packages\\ipykernel_launcher.py:9: RuntimeWarning: invalid value encountered in true_divide\n",
      "  if __name__ == '__main__':\n"
     ]
    },
    {
     "ename": "TypeError",
     "evalue": "only size-1 arrays can be converted to Python scalars",
     "output_type": "error",
     "traceback": [
      "\u001b[1;31m---------------------------------------------------------------------------\u001b[0m",
      "\u001b[1;31mTypeError\u001b[0m                                 Traceback (most recent call last)",
      "\u001b[1;32m<ipython-input-291-6e131275f8d5>\u001b[0m in \u001b[0;36m<module>\u001b[1;34m()\u001b[0m\n\u001b[1;32m----> 1\u001b[1;33m \u001b[0mquasi_Newton_method\u001b[0m\u001b[1;33m(\u001b[0m\u001b[0mgrad_b\u001b[0m\u001b[1;33m,\u001b[0m \u001b[0mstart_x\u001b[0m\u001b[1;33m=\u001b[0m\u001b[0mstart_b\u001b[0m\u001b[1;33m)\u001b[0m\u001b[1;33m\u001b[0m\u001b[0m\n\u001b[0m",
      "\u001b[1;32m<ipython-input-290-15be6376c39a>\u001b[0m in \u001b[0;36mquasi_Newton_method\u001b[1;34m(grad, start_x, stop_precision, step_size, iterations)\u001b[0m\n\u001b[0;32m     20\u001b[0m         \u001b[0my\u001b[0m \u001b[1;33m=\u001b[0m \u001b[0mgrad\u001b[0m\u001b[1;33m(\u001b[0m\u001b[0mcurr_x\u001b[0m\u001b[1;33m+\u001b[0m\u001b[0ms\u001b[0m\u001b[1;33m)\u001b[0m \u001b[1;33m-\u001b[0m \u001b[0mgrad\u001b[0m\u001b[1;33m(\u001b[0m\u001b[0mcurr_x\u001b[0m\u001b[1;33m)\u001b[0m\u001b[1;33m\u001b[0m\u001b[0m\n\u001b[0;32m     21\u001b[0m \u001b[1;33m\u001b[0m\u001b[0m\n\u001b[1;32m---> 22\u001b[1;33m         \u001b[0minverse_hesse\u001b[0m \u001b[1;33m=\u001b[0m \u001b[0mupdate_inverse_hesse\u001b[0m\u001b[1;33m(\u001b[0m\u001b[0minverse_hesse\u001b[0m\u001b[1;33m,\u001b[0m \u001b[0ms\u001b[0m\u001b[1;33m,\u001b[0m \u001b[0my\u001b[0m\u001b[1;33m)\u001b[0m\u001b[1;33m\u001b[0m\u001b[0m\n\u001b[0m\u001b[0;32m     23\u001b[0m         \u001b[0mcurr_x\u001b[0m \u001b[1;33m=\u001b[0m \u001b[0mcurr_x\u001b[0m \u001b[1;33m+\u001b[0m \u001b[0ms\u001b[0m\u001b[1;33m\u001b[0m\u001b[0m\n\u001b[0;32m     24\u001b[0m \u001b[1;33m\u001b[0m\u001b[0m\n",
      "\u001b[1;32m<ipython-input-290-15be6376c39a>\u001b[0m in \u001b[0;36mupdate_inverse_hesse\u001b[1;34m(prev, s, y)\u001b[0m\n\u001b[0;32m      8\u001b[0m         \u001b[0mv\u001b[0m \u001b[1;33m=\u001b[0m \u001b[0ms\u001b[0m \u001b[1;33m-\u001b[0m \u001b[0mprev\u001b[0m\u001b[1;33m*\u001b[0m\u001b[0my\u001b[0m\u001b[1;33m\u001b[0m\u001b[0m\n\u001b[0;32m      9\u001b[0m         \u001b[1;32mif\u001b[0m \u001b[0mv\u001b[0m\u001b[1;33m.\u001b[0m\u001b[0mT\u001b[0m\u001b[1;33m*\u001b[0m\u001b[0my\u001b[0m \u001b[1;33m==\u001b[0m \u001b[1;36m0\u001b[0m \u001b[1;32mor\u001b[0m \u001b[0mv\u001b[0m\u001b[1;33m.\u001b[0m\u001b[0mT\u001b[0m\u001b[1;33m*\u001b[0m\u001b[0my\u001b[0m \u001b[1;33m!=\u001b[0m \u001b[0mv\u001b[0m\u001b[1;33m.\u001b[0m\u001b[0mT\u001b[0m\u001b[1;33m*\u001b[0m\u001b[0my\u001b[0m\u001b[1;33m:\u001b[0m\u001b[1;33m\u001b[0m\u001b[0m\n\u001b[1;32m---> 10\u001b[1;33m              \u001b[1;32mraise\u001b[0m \u001b[0mException\u001b[0m\u001b[1;33m(\u001b[0m\u001b[1;34m'hesse error: Divided by zero %f'\u001b[0m \u001b[1;33m%\u001b[0m \u001b[0mv\u001b[0m\u001b[1;33m.\u001b[0m\u001b[0mT\u001b[0m\u001b[1;33m*\u001b[0m\u001b[0my\u001b[0m\u001b[1;33m)\u001b[0m\u001b[1;33m\u001b[0m\u001b[0m\n\u001b[0m\u001b[0;32m     11\u001b[0m         \u001b[1;32mreturn\u001b[0m \u001b[0mprev\u001b[0m \u001b[1;33m+\u001b[0m \u001b[0mv\u001b[0m\u001b[1;33m*\u001b[0m\u001b[0mv\u001b[0m\u001b[1;33m.\u001b[0m\u001b[0mT\u001b[0m\u001b[1;33m/\u001b[0m\u001b[1;33m(\u001b[0m\u001b[0mv\u001b[0m\u001b[1;33m.\u001b[0m\u001b[0mT\u001b[0m\u001b[1;33m*\u001b[0m\u001b[0my\u001b[0m\u001b[1;33m)\u001b[0m\u001b[1;33m\u001b[0m\u001b[0m\n\u001b[0;32m     12\u001b[0m \u001b[1;33m\u001b[0m\u001b[0m\n",
      "\u001b[1;31mTypeError\u001b[0m: only size-1 arrays can be converted to Python scalars"
     ]
    }
   ],
   "source": [
    "quasi_newton_method(grad_b, start_x=start_b)"
   ]
  },
  {
   "cell_type": "code",
   "execution_count": 296,
   "metadata": {},
   "outputs": [],
   "source": [
    "def line_search(r, x, mu, z_p, z_d, c, beta):\n",
    "    alpha = 1\n",
    "    while norm(r(x + alpha * z_p, mu + alpha * z_d)) >= (1 - c * alpha) * norm(r(x, mu)): \n",
    "        alpha *= beta   \n",
    "    return alpha"
   ]
  },
  {
   "cell_type": "code",
   "execution_count": 310,
   "metadata": {},
   "outputs": [
    {
     "ename": "LinAlgError",
     "evalue": "singular matrix",
     "output_type": "error",
     "traceback": [
      "\u001b[1;31m---------------------------------------------------------------------------\u001b[0m",
      "\u001b[1;31mLinAlgError\u001b[0m                               Traceback (most recent call last)",
      "\u001b[1;32m<ipython-input-310-c0bde40cf39e>\u001b[0m in \u001b[0;36m<module>\u001b[1;34m()\u001b[0m\n\u001b[1;32m----> 1\u001b[1;33m \u001b[0mnewton_method\u001b[0m\u001b[1;33m(\u001b[0m\u001b[0mgrad_b\u001b[0m\u001b[1;33m,\u001b[0m \u001b[0mhesse_b\u001b[0m\u001b[1;33m,\u001b[0m \u001b[0mstart_b\u001b[0m\u001b[1;33m)\u001b[0m\u001b[1;33m\u001b[0m\u001b[0m\n\u001b[0m",
      "\u001b[1;32m<ipython-input-309-7b7ccb7b599e>\u001b[0m in \u001b[0;36mnewton_method\u001b[1;34m(grad, hesse, start_x, stop_precision, step_size, iterations)\u001b[0m\n\u001b[0;32m      7\u001b[0m     \u001b[0mcurr_x\u001b[0m \u001b[1;33m=\u001b[0m \u001b[0mstart_x\u001b[0m\u001b[1;33m\u001b[0m\u001b[0m\n\u001b[0;32m      8\u001b[0m     \u001b[1;32mfor\u001b[0m \u001b[0mi\u001b[0m \u001b[1;32min\u001b[0m \u001b[0mrange\u001b[0m\u001b[1;33m(\u001b[0m\u001b[0miterations\u001b[0m\u001b[1;33m)\u001b[0m\u001b[1;33m:\u001b[0m\u001b[1;33m\u001b[0m\u001b[0m\n\u001b[1;32m----> 9\u001b[1;33m         \u001b[0minverse_hesse\u001b[0m \u001b[1;33m=\u001b[0m \u001b[0mhesse\u001b[0m\u001b[1;33m(\u001b[0m\u001b[0mcurr_x\u001b[0m\u001b[1;33m)\u001b[0m\u001b[1;33m.\u001b[0m\u001b[0mI\u001b[0m\u001b[1;33m\u001b[0m\u001b[0m\n\u001b[0m\u001b[0;32m     10\u001b[0m         \u001b[0mgradient\u001b[0m \u001b[1;33m=\u001b[0m \u001b[0mgrad\u001b[0m\u001b[1;33m(\u001b[0m\u001b[0mcurr_x\u001b[0m\u001b[1;33m)\u001b[0m\u001b[1;33m\u001b[0m\u001b[0m\n\u001b[0;32m     11\u001b[0m \u001b[1;33m\u001b[0m\u001b[0m\n",
      "\u001b[1;32m~\\Anaconda3\\lib\\site-packages\\numpy\\matrixlib\\defmatrix.py\u001b[0m in \u001b[0;36mgetI\u001b[1;34m(self)\u001b[0m\n\u001b[0;32m    923\u001b[0m         \u001b[1;32melse\u001b[0m\u001b[1;33m:\u001b[0m\u001b[1;33m\u001b[0m\u001b[0m\n\u001b[0;32m    924\u001b[0m             \u001b[1;32mfrom\u001b[0m \u001b[0mnumpy\u001b[0m\u001b[1;33m.\u001b[0m\u001b[0mdual\u001b[0m \u001b[1;32mimport\u001b[0m \u001b[0mpinv\u001b[0m \u001b[1;32mas\u001b[0m \u001b[0mfunc\u001b[0m\u001b[1;33m\u001b[0m\u001b[0m\n\u001b[1;32m--> 925\u001b[1;33m         \u001b[1;32mreturn\u001b[0m \u001b[0masmatrix\u001b[0m\u001b[1;33m(\u001b[0m\u001b[0mfunc\u001b[0m\u001b[1;33m(\u001b[0m\u001b[0mself\u001b[0m\u001b[1;33m)\u001b[0m\u001b[1;33m)\u001b[0m\u001b[1;33m\u001b[0m\u001b[0m\n\u001b[0m\u001b[0;32m    926\u001b[0m \u001b[1;33m\u001b[0m\u001b[0m\n\u001b[0;32m    927\u001b[0m     \u001b[1;32mdef\u001b[0m \u001b[0mgetA\u001b[0m\u001b[1;33m(\u001b[0m\u001b[0mself\u001b[0m\u001b[1;33m)\u001b[0m\u001b[1;33m:\u001b[0m\u001b[1;33m\u001b[0m\u001b[0m\n",
      "\u001b[1;32m~\\Anaconda3\\lib\\site-packages\\scipy\\linalg\\basic.py\u001b[0m in \u001b[0;36minv\u001b[1;34m(a, overwrite_a, check_finite)\u001b[0m\n\u001b[0;32m    973\u001b[0m         \u001b[0minv_a\u001b[0m\u001b[1;33m,\u001b[0m \u001b[0minfo\u001b[0m \u001b[1;33m=\u001b[0m \u001b[0mgetri\u001b[0m\u001b[1;33m(\u001b[0m\u001b[0mlu\u001b[0m\u001b[1;33m,\u001b[0m \u001b[0mpiv\u001b[0m\u001b[1;33m,\u001b[0m \u001b[0mlwork\u001b[0m\u001b[1;33m=\u001b[0m\u001b[0mlwork\u001b[0m\u001b[1;33m,\u001b[0m \u001b[0moverwrite_lu\u001b[0m\u001b[1;33m=\u001b[0m\u001b[1;36m1\u001b[0m\u001b[1;33m)\u001b[0m\u001b[1;33m\u001b[0m\u001b[0m\n\u001b[0;32m    974\u001b[0m     \u001b[1;32mif\u001b[0m \u001b[0minfo\u001b[0m \u001b[1;33m>\u001b[0m \u001b[1;36m0\u001b[0m\u001b[1;33m:\u001b[0m\u001b[1;33m\u001b[0m\u001b[0m\n\u001b[1;32m--> 975\u001b[1;33m         \u001b[1;32mraise\u001b[0m \u001b[0mLinAlgError\u001b[0m\u001b[1;33m(\u001b[0m\u001b[1;34m\"singular matrix\"\u001b[0m\u001b[1;33m)\u001b[0m\u001b[1;33m\u001b[0m\u001b[0m\n\u001b[0m\u001b[0;32m    976\u001b[0m     \u001b[1;32mif\u001b[0m \u001b[0minfo\u001b[0m \u001b[1;33m<\u001b[0m \u001b[1;36m0\u001b[0m\u001b[1;33m:\u001b[0m\u001b[1;33m\u001b[0m\u001b[0m\n\u001b[0;32m    977\u001b[0m         raise ValueError('illegal value in %d-th argument of internal '\n",
      "\u001b[1;31mLinAlgError\u001b[0m: singular matrix"
     ]
    }
   ],
   "source": [
    "newton_method(grad_b, hesse_b, start_b)"
   ]
  },
  {
   "cell_type": "code",
   "execution_count": 293,
   "metadata": {},
   "outputs": [
    {
     "data": {
      "text/plain": [
       "matrix([[ 1., -0.],\n",
       "        [ 0.,  1.]])"
      ]
     },
     "execution_count": 293,
     "metadata": {},
     "output_type": "execute_result"
    }
   ],
   "source": [
    "np.matrix(np.identity(2)).I"
   ]
  },
  {
   "cell_type": "code",
   "execution_count": 294,
   "metadata": {},
   "outputs": [
    {
     "data": {
      "text/plain": [
       "matrix([[  6728.01574799, -13343.36482931],\n",
       "        [-13343.36482931,  26630.39632529]])"
      ]
     },
     "execution_count": 294,
     "metadata": {},
     "output_type": "execute_result"
    }
   ],
   "source": [
    "hesse_b(start_b).I"
   ]
  },
  {
   "cell_type": "code",
   "execution_count": null,
   "metadata": {},
   "outputs": [],
   "source": []
  }
 ],
 "metadata": {
  "kernelspec": {
   "display_name": "Python 3",
   "language": "python",
   "name": "python3"
  },
  "language_info": {
   "codemirror_mode": {
    "name": "ipython",
    "version": 3
   },
   "file_extension": ".py",
   "mimetype": "text/x-python",
   "name": "python",
   "nbconvert_exporter": "python",
   "pygments_lexer": "ipython3",
   "version": "3.6.5"
  }
 },
 "nbformat": 4,
 "nbformat_minor": 2
}
